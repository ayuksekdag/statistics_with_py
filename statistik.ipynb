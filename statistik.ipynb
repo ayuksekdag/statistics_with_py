{
  "nbformat": 4,
  "nbformat_minor": 0,
  "metadata": {
    "colab": {
      "name": "stastiek.ipynb",
      "provenance": [],
      "authorship_tag": "ABX9TyMGPqkj7I16/6pih66A3nEW",
      "include_colab_link": true
    },
    "kernelspec": {
      "name": "python3",
      "display_name": "Python 3"
    },
    "language_info": {
      "name": "python"
    }
  },
  "cells": [
    {
      "cell_type": "markdown",
      "metadata": {
        "id": "view-in-github",
        "colab_type": "text"
      },
      "source": [
        "<a href=\"https://colab.research.google.com/github/ayuksekdag/statistics_with_py/blob/main/statistik.ipynb\" target=\"_parent\"><img src=\"https://colab.research.google.com/assets/colab-badge.svg\" alt=\"Open In Colab\"/></a>"
      ]
    },
    {
      "cell_type": "code",
      "execution_count": 1,
      "metadata": {
        "colab": {
          "base_uri": "https://localhost:8080/"
        },
        "id": "Xvg8vyp8HFDB",
        "outputId": "d501af29-2099-4b7c-dd05-668c10d76c43"
      },
      "outputs": [
        {
          "output_type": "stream",
          "name": "stdout",
          "text": [
            "dataset 1 :     0   1   2   3   4   5\n",
            "0  15  18  25  16  14  20\n",
            "  count    mean      std    min    25%    50%    75%    max\n",
            "-------  ------  -------  -----  -----  -----  -----  -----\n",
            "      6      18  4.04969     14  15.25     17   19.5     25\n",
            "dataset 2 \n",
            " -  -  -  --  --  --\n",
            "2  3  3  23  38  39\n",
            "-  -  -  --  --  --\n",
            "  count    mean      std    min    25%    50%    75%    max\n",
            "-------  ------  -------  -----  -----  -----  -----  -----\n",
            "      6      18  17.7313      2      3     13  34.25     39\n",
            "dataset 3 \n",
            " -  --  --  --  --  --\n",
            "3  18  16  15  16  40\n",
            "-  --  --  --  --  --\n",
            "  count    mean      std    min    25%    50%    75%    max\n",
            "-------  ------  -------  -----  -----  -----  -----  -----\n",
            "      6      18  12.0499      3  15.25     16   17.5     40\n",
            "dataset 4 \n",
            " --  --  --  --  --  --\n",
            "17  18  19  17  18  19\n",
            "--  --  --  --  --  --\n",
            "  count    mean       std    min    25%    50%    75%    max\n",
            "-------  ------  --------  -----  -----  -----  -----  -----\n",
            "      6      18  0.894427     17  17.25     18  18.75     19\n",
            "dataset 5 \n",
            " --  --  --  --  --  --\n",
            "18  18  18  18  18  18\n",
            "--  --  --  --  --  --\n",
            "  count    mean    std    min    25%    50%    75%    max\n",
            "-------  ------  -----  -----  -----  -----  -----  -----\n",
            "      6      18      0     18     18     18     18     18\n"
          ]
        }
      ],
      "source": [
        "#descriptive statistics\n",
        "\n",
        "import pandas as pd\n",
        "from tabulate import tabulate\n",
        "\n",
        "dataset1 = [15,18,25,16,14,20]\n",
        "dataset2 = [2,3,3,23,38,39]\n",
        "dataset3 = [3,18,16,15,16,40]\n",
        "dataset4 = [17,18,19,17,18,19]\n",
        "dataset5 = [18,18,18,18,18,18]\n",
        "\n",
        "d1_s = pd.DataFrame(dataset1)\n",
        "d2_s = pd.DataFrame(dataset2)\n",
        "d3_s = pd.DataFrame(dataset3)\n",
        "d4_s = pd.DataFrame(dataset4)\n",
        "d5_s = pd.DataFrame(dataset5)\n",
        "\n",
        "d1_sum = d1_s.describe()\n",
        "d2_sum = d2_s.describe()\n",
        "d3_sum = d3_s.describe()\n",
        "d4_sum = d4_s.describe()\n",
        "d5_sum = d5_s.describe()\n",
        "\n",
        "#print ('dataset 1',d1_s.to_markdown())\n",
        "\n",
        "\n",
        "\n",
        "d1_s.reset_index(drop=True)\n",
        "\n",
        "\n",
        "print ('dataset 1 :',d1_s.transpose())\n",
        "print (tabulate(d1_sum.transpose(),headers=\"keys\",showindex=\"no\"))\n",
        "print ('dataset 2 \\n',tabulate(d2_s.transpose(),showindex=\"no\" ))\n",
        "print (tabulate(d2_sum.transpose(),headers=\"keys\",showindex=\"no\"))\n",
        "print ('dataset 3 \\n',tabulate(d3_s.transpose(),showindex=\"no\" ))\n",
        "print (tabulate(d3_sum.transpose(),headers=\"keys\",showindex=\"no\"))\n",
        "print ('dataset 4 \\n',tabulate(d4_s.transpose(),showindex=\"no\" ))\n",
        "print (tabulate(d4_sum.transpose(),headers=\"keys\",showindex=\"no\"))\n",
        "print ('dataset 5 \\n',tabulate(d5_s.transpose(),showindex=\"no\" ))\n",
        "print (tabulate(d5_sum.transpose(),headers=\"keys\",showindex=\"no\"))\n",
        "\n"
      ]
    },
    {
      "cell_type": "markdown",
      "source": [
        "# New Section"
      ],
      "metadata": {
        "id": "Q7mmibnNHU91"
      }
    }
  ]
}